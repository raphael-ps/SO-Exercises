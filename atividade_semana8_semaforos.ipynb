{
  "nbformat": 4,
  "nbformat_minor": 0,
  "metadata": {
    "colab": {
      "provenance": [],
      "authorship_tag": "ABX9TyPpj8LDwKd0AI8HistZUIvk",
      "include_colab_link": true
    },
    "kernelspec": {
      "name": "python3",
      "display_name": "Python 3"
    },
    "language_info": {
      "name": "python"
    }
  },
  "cells": [
    {
      "cell_type": "markdown",
      "metadata": {
        "id": "view-in-github",
        "colab_type": "text"
      },
      "source": [
        "<a href=\"https://colab.research.google.com/github/raphael-ps/SO-Exercises/blob/main/atividade_semana8_semaforos.ipynb\" target=\"_parent\"><img src=\"https://colab.research.google.com/assets/colab-badge.svg\" alt=\"Open In Colab\"/></a>"
      ]
    },
    {
      "cell_type": "code",
      "execution_count": 40,
      "metadata": {
        "colab": {
          "base_uri": "https://localhost:8080/"
        },
        "id": "h5IwtyiATman",
        "outputId": "69fabad9-1bd5-474e-ffc6-9f6900b08c82"
      },
      "outputs": [
        {
          "output_type": "stream",
          "name": "stdout",
          "text": [
            "Thread-997 (mostrar) Cliente 1 - tempo 10s\n",
            "Thread-998 (mostrar) Cliente 2 - tempo 10s\n",
            "Thread-999 (mostrar) Cliente 3 - tempo 9s\n",
            "Thread-1000 (mostrar) Cliente 4 - tempo 5s\n",
            "Thread-1001 (mostrar) Cliente 5 - tempo 5s\n",
            "Thread-1002 (mostrar) Cliente 6 - tempo 8s\n",
            "Thread-1003 (mostrar) Cliente 7 - tempo 7s\n",
            "Thread-1004 (mostrar) Cliente 8 - tempo 5s\n",
            "Thread-1005 (mostrar) Cliente 9 - tempo 9s\n",
            "Thread-1006 (mostrar) Cliente 10 - tempo 6s\n",
            "Thread-1007 (mostrar) Cliente 11 - tempo 6s\n",
            "Thread-1008 (mostrar) Cliente 12 - tempo 7s\n",
            "Thread-1009 (mostrar) Cliente 13 - tempo 4s\n",
            "Thread-1010 (mostrar) Cliente 14 - tempo 7s\n",
            "Thread-1011 (mostrar) Cliente 15 - tempo 5s\n",
            "Thread-1012 (mostrar) Cliente 16 - tempo 8s\n",
            "Thread-1013 (mostrar) Cliente 17 - tempo 5s\n",
            "Thread-1014 (mostrar) Cliente 18 - tempo 5s\n",
            "Thread-1015 (mostrar) Cliente 19 - tempo 3s\n",
            "Thread-1016 (mostrar) Cliente 20 - tempo 5s\n",
            "Thread-1017 (mostrar) Cliente 21 - tempo 3s\n",
            "Thread-1018 (mostrar) Cliente 22 - tempo 8s\n",
            "Thread-1019 (mostrar) Cliente 23 - tempo 5s\n",
            "Thread-1020 (mostrar) Cliente 24 - tempo 7s\n",
            "Thread-1021 (mostrar) Cliente 25 - tempo 10s\n",
            "Thread-1022 (mostrar) Cliente 26 - tempo 3s\n",
            "Thread-1023 (mostrar) Cliente 27 - tempo 5s\n",
            "Thread-1024 (mostrar) Cliente 28 - tempo 5s\n",
            "Thread-1025 (mostrar) Cliente 29 - tempo 10s\n",
            "Thread-1026 (mostrar) Cliente 30 - tempo 10s\n"
          ]
        }
      ],
      "source": [
        "import threading\n",
        "import time\n",
        "import random\n",
        "\n",
        "semaforo = threading.Semaphore(3)\n",
        "\n",
        "clientes = [random.randint(3,10) for c in range(0, 30)]\n",
        "\n",
        "def mostrar(msg, tempo):\n",
        "\n",
        "    semaforo.acquire()\n",
        "    print(threading.current_thread().name, f'Cliente {msg} - tempo {tempo}s')\n",
        "    time.sleep(tempo)\n",
        "    semaforo.release()\n",
        "\n",
        "\n",
        "if __name__==\"__main__\":\n",
        "  threads = []\n",
        "\n",
        "  for i, tempo_cliente in enumerate(clientes):\n",
        "    t1 = threading.Thread(target=mostrar, args=(i+1, tempo_cliente))\n",
        "    t1.start()\n",
        "    threads.append(t1)\n",
        "\n",
        "  for t in threads:\n",
        "    t.join()"
      ]
    }
  ]
}